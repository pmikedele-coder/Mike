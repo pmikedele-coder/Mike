{
  "nbformat": 4,
  "nbformat_minor": 0,
  "metadata": {
    "colab": {
      "provenance": [],
      "mount_file_id": "10YjHqWDcF-Mki22l2Ep0SKW9WPUTxTYF",
      "authorship_tag": "ABX9TyPrHVELIdEu66LyvhGJhmMH",
      "include_colab_link": true
    },
    "kernelspec": {
      "name": "python3",
      "display_name": "Python 3"
    },
    "language_info": {
      "name": "python"
    }
  },
  "cells": [
    {
      "cell_type": "markdown",
      "metadata": {
        "id": "view-in-github",
        "colab_type": "text"
      },
      "source": [
        "<a href=\"https://colab.research.google.com/github/pmikedele-coder/Mike/blob/main/ProyectoParteIII%2BPerez.ipynb\" target=\"_parent\"><img src=\"https://colab.research.google.com/assets/colab-badge.svg\" alt=\"Open In Colab\"/></a>"
      ]
    },
    {
      "cell_type": "code",
      "source": [
        "\n",
        "import pandas as pd\n",
        "\n",
        "# Cargar el archivo CSV\n",
        "df = pd.read_csv('gym_members_exercise_tracking.csv')\n",
        "df.head()\n"
      ],
      "metadata": {
        "id": "Ww2T4oeZICb5"
      },
      "execution_count": null,
      "outputs": []
    }
  ]
}