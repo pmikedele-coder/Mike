{
 "cells": [
  {
   "cell_type": "markdown",
   "id": "8552c4a5",
   "metadata": {},
   "source": [
    "# Proyecto Parte III - Feature Selection + Model\n",
    "\n",
    "Autor: `Perez`  \n",
    "\n",
    "Este notebook cumple con la consigna del Proyecto Final:\n",
    "\n",
    "1. Elegir un método de *feature selection* para reducir la dimensionalidad.\n",
    "2. Elegir un algoritmo de clasificación para entrenar con los datos elegidos.\n",
    "3. Cálculo de métricas básicas para validar el modelo.\n",
    "4. Generar conclusiones a partir de los resultados.\n",
    "\n",
    "**Instrucciones de uso:** Coloca tu dataset en el mismo directorio con el nombre `data.csv` y una columna llamada `target`. Si no hay `data.csv`, el notebook generará un dataset sintético de ejemplo y lo guardará como `data.csv`."
   ]
  },
  {
   "cell_type": "code",
   "execution_count": null,
   "id": "922d5f42",
   "metadata": {},
   "outputs": [],
   "source": [
    "import os\n",
    "import pandas as pd\n",
    "import numpy as np\n",
    "from sklearn.model_selection import train_test_split, cross_val_score, StratifiedKFold\n",
    "from sklearn.ensemble import RandomForestClassifier\n",
    "from sklearn.feature_selection import SelectKBest, mutual_info_classif, SelectFromModel\n",
    "from sklearn.metrics import accuracy_score, precision_score, recall_score, f1_score, confusion_matrix, classification_report\n",
    "import matplotlib.pyplot as plt\n",
    "\n",
    "print('librerías cargadas')"
   ]
  },
  {
   "cell_type": "code",
   "execution_count": null,
   "id": "5ae339e4",
   "metadata": {},
   "outputs": [],
   "source": [
    "# Cargar dataset\n",
    "fn = 'data.csv'\n",
    "if os.path.exists(fn):\n",
    "    df = pd.read_csv(fn)\n",
    "    print(f'Archivo {fn} encontrado — shape:', df.shape)\n",
    "else:\n",
    "    print(f'Archivo {fn} no encontrado. Generando dataset sintético...')\n",
    "    from sklearn.datasets import make_classification\n",
    "    X, y = make_classification(n_samples=1000, n_features=25, n_informative=8, n_redundant=5,\n",
    "                               n_repeated=0, n_classes=2, random_state=42)\n",
    "    cols = [f'feat_{i}' for i in range(X.shape[1])]\n",
    "    df = pd.DataFrame(X, columns=cols)\n",
    "    df['target'] = y\n",
    "    df.to_csv(fn, index=False)\n",
    "    print(f'Dataset sintético guardado como {fn} — shape:', df.shape)\n",
    "\n",
    "# Mostrar primeras filas\n",
    "display(df.head())\n",
    "print('\\nColumnas:', df.columns.tolist())"
   ]
  },
  {
   "cell_type": "markdown",
   "id": "73e3ee37",
   "metadata": {},
   "source": [
    "## Exploración básica de los datos"
   ]
  },
  {
   "cell_type": "code",
   "execution_count": null,
   "id": "1485a007",
   "metadata": {},
   "outputs": [],
   "source": [
    "# Resumen rápido\n",
    "print('Nulos por columna:')\n",
    "print(df.isna().sum())\n",
    "print('\\nDistribución del target:')\n",
    "print(df['target'].value_counts(normalize=True))\n",
    "\n",
    "# Describir numéricos\n",
    "print('\\nDescripción estadística:')\n",
    "print(df.describe().T)"
   ]
  },
  {
   "cell_type": "markdown",
   "id": "d0606b7b",
   "metadata": {},
   "source": [
    "## Preparar matrices X, y y partición train/test"
   ]
  },
  {
   "cell_type": "code",
   "execution_count": null,
   "id": "9ee1ddb2",
   "metadata": {},
   "outputs": [],
   "source": [
    "X = df.drop(columns=['target'])\n",
    "y = df['target']\n",
    "\n",
    "X_train, X_test, y_train, y_test = train_test_split(X, y, test_size=0.2, stratify=y, random_state=42)\n",
    "print('Train shape:', X_train.shape, 'Test shape:', X_test.shape)"
   ]
  },
  {
   "cell_type": "markdown",
   "id": "e8055a21",
   "metadata": {},
   "source": [
    "## Método de Feature Selection 1 — SelectKBest (mutual information)\n",
    "Elegimos las 10 mejores características según `mutual_info_classif` (útil para relaciones no lineales)."
   ]
  },
  {
   "cell_type": "code",
   "execution_count": null,
   "id": "a418ef49",
   "metadata": {},
   "outputs": [],
   "source": [
    "k = 10\n",
    "skb = SelectKBest(score_func=mutual_info_classif, k=k)\n",
    "skb.fit(X_train, y_train)\n",
    "support_skb = skb.get_support()\n",
    "selected_kbest = X_train.columns[support_skb].tolist()\n",
    "print(f'Se seleccionaron {len(selected_kbest)} features con SelectKBest:')\n",
    "print(selected_kbest)\n",
    "\n",
    "# guardar transformaciones\n",
    "X_train_kbest = skb.transform(X_train)\n",
    "X_test_kbest = skb.transform(X_test)"
   ]
  },
  {
   "cell_type": "markdown",
   "id": "e00aa7b6",
   "metadata": {},
   "source": [
    "## Método de Feature Selection 2 — SelectFromModel (RandomForest feature importances)\n",
    "Usamos un RandomForest rápido para estimar importancias y seleccionar features."
   ]
  },
  {
   "cell_type": "code",
   "execution_count": null,
   "id": "a5eba68d",
   "metadata": {},
   "outputs": [],
   "source": [
    "rf_for_fs = RandomForestClassifier(n_estimators=200, random_state=42, n_jobs=-1)\n",
    "rf_for_fs.fit(X_train, y_train)\n",
    "selector = SelectFromModel(rf_for_fs, prefit=True, threshold='median')\n",
    "support_sfm = selector.get_support()\n",
    "selected_sfm = X_train.columns[support_sfm].tolist()\n",
    "print('Features seleccionadas por SelectFromModel (threshold=median):')\n",
    "print(selected_sfm)\n",
    "\n",
    "X_train_sfm = selector.transform(X_train)\n",
    "X_test_sfm = selector.transform(X_test)"
   ]
  },
  {
   "cell_type": "code",
   "execution_count": null,
   "id": "fcd49a20",
   "metadata": {},
   "outputs": [],
   "source": [
    "print('KBest selected:', len(selected_kbest))\n",
    "print('SelectFromModel selected:', len(selected_sfm))"
   ]
  },
  {
   "cell_type": "markdown",
   "id": "7631f48a",
   "metadata": {},
   "source": [
    "## Entrenar modelo — RandomForestClassifier\n",
    "Probamos entrenar el mismo algoritmo usando las dos selecciones de features y también con todas las features para comparar."
   ]
  },
  {
   "cell_type": "code",
   "execution_count": null,
   "id": "9940030c",
   "metadata": {},
   "outputs": [],
   "source": [
    "def train_and_eval(clf, X_tr, X_te, y_tr, y_te, cv=5):\n",
    "    clf.fit(X_tr, y_tr)\n",
    "    y_pred = clf.predict(X_te)\n",
    "    scores = {\n",
    "        'accuracy': accuracy_score(y_te, y_pred),\n",
    "        'precision': precision_score(y_te, y_pred),\n",
    "        'recall': recall_score(y_te, y_pred),\n",
    "        'f1': f1_score(y_te, y_pred)\n",
    "    }\n",
    "    print('Test scores:', scores)\n",
    "    print('\\nClassification report:\\n', classification_report(y_te, y_pred))\n",
    "    cm = confusion_matrix(y_te, y_pred)\n",
    "    return scores, cm\n",
    "\n",
    "rf = RandomForestClassifier(n_estimators=300, random_state=42, n_jobs=-1)\n",
    "\n",
    "print('--- Usando todas las features ---')\n",
    "scores_all, cm_all = train_and_eval(rf, X_train, X_test, y_train, y_test)\n",
    "\n",
    "print('\\n--- Usando SelectKBest (k=', len(selected_kbest),') ---')\n",
    "scores_kbest, cm_kbest = train_and_eval(rf, X_train_kbest, X_test_kbest, y_train, y_test)\n",
    "\n",
    "print('\\n--- Usando SelectFromModel (', len(selected_sfm), 'features) ---')\n",
    "scores_sfm, cm_sfm = train_and_eval(rf, X_train_sfm, X_test_sfm, y_train, y_test)"
   ]
  },
  {
   "cell_type": "markdown",
   "id": "9337d78e",
   "metadata": {},
   "source": [
    "## Validación cruzada (5-fold) — comparar rendimiento estable\n",
    "Usamos `StratifiedKFold` para medir estabilidad con las tres configuraciones."
   ]
  },
  {
   "cell_type": "code",
   "execution_count": null,
   "id": "5bfb62de",
   "metadata": {},
   "outputs": [],
   "source": [
    "cv = StratifiedKFold(n_splits=5, shuffle=True, random_state=42)\n",
    "\n",
    "def cv_score(clf, X, y):\n",
    "    s = cross_val_score(clf, X, y, cv=cv, scoring='f1')\n",
    "    return s.mean(), s.std()\n",
    "\n",
    "mean_all, std_all = cv_score(rf, X, y)\n",
    "mean_kbest, std_kbest = cv_score(rf, skb.transform(X), y)\n",
    "mean_sfm, std_sfm = cv_score(rf, selector.transform(X), y)\n",
    "\n",
    "print('F1 mean (all features):', mean_all, '±', std_all)\n",
    "print('F1 mean (SelectKBest):', mean_kbest, '±', std_kbest)\n",
    "print('F1 mean (SelectFromModel):', mean_sfm, '±', std_sfm)"
   ]
  },
  {
   "cell_type": "markdown",
   "id": "db9d34ef",
   "metadata": {},
   "source": [
    "## Matrices de confusión (test set)"
   ]
  },
  {
   "cell_type": "code",
   "execution_count": null,
   "id": "1143dc2a",
   "metadata": {},
   "outputs": [],
   "source": [
    "def plot_cm(cm, title='Confusion matrix'):\n",
    "    plt.figure()\n",
    "    plt.imshow(cm, interpolation='nearest')\n",
    "    plt.title(title)\n",
    "    plt.colorbar()\n",
    "    plt.xlabel('Predicted')\n",
    "    plt.ylabel('Actual')\n",
    "    for i in range(cm.shape[0]):\n",
    "        for j in range(cm.shape[1]):\n",
    "            plt.text(j, i, cm[i, j], ha='center', va='center')\n",
    "    plt.show()\n",
    "\n",
    "plot_cm(cm_all, 'Confusion matrix - All features')\n",
    "plot_cm(cm_kbest, 'Confusion matrix - SelectKBest')\n",
    "plot_cm(cm_sfm, 'Confusion matrix - SelectFromModel')"
   ]
  },
  {
   "cell_type": "markdown",
   "id": "d44bbd49",
   "metadata": {},
   "source": [
    "## Importancias de features (RandomForest)\n",
    "Mostramos las 15 features más importantes según el RandomForest usado para entrenamiento de features."
   ]
  },
  {
   "cell_type": "code",
   "execution_count": null,
   "id": "58f7f1f2",
   "metadata": {},
   "outputs": [],
   "source": [
    "# usar el modelo rf_for_fs entrenado antes\n",
    "importances = rf_for_fs.feature_importances_\n",
    "feat_names = X_train.columns\n",
    "imp_df = pd.DataFrame({'feature': feat_names, 'importance': importances}).sort_values('importance', ascending=False)\n",
    "imp_df_top = imp_df.head(15)\n",
    "print(imp_df_top)\n",
    "\n",
    "plt.figure()\n",
    "plt.bar(range(len(imp_df_top)), imp_df_top['importance'])\n",
    "plt.xticks(range(len(imp_df_top)), imp_df_top['feature'], rotation=90)\n",
    "plt.title('Top 15 feature importances (RandomForest)')\n",
    "plt.tight_layout()\n",
    "plt.show()"
   ]
  },
  {
   "cell_type": "markdown",
   "id": "97799c07",
   "metadata": {},
   "source": [
    "## Conclusiones\n",
    "\n",
    "- Se presentaron dos métodos de selección de características: `SelectKBest` (mutual information) y `SelectFromModel` (basado en importancias de RandomForest).\n",
    "- Comparando las tres configuraciones (todas las features, SelectKBest, SelectFromModel) observamos la diferencia en rendimiento en el set de test y mediante validación cruzada.  \n",
    "- Dependiendo del dataset real, una reducción de dimensionalidad puede mantener el rendimiento mientras reduce costo computacional y mejorar interpretabilidad.  \n",
    "\n",
    "**Recomendaciones para entrega:**\n",
    "1. Subir este notebook `/mnt/data/ProyectoParteIII_Perez.ipynb` a tu repositorio GitHub junto con tu `data.csv` real.\n",
    "2. Asegúrate de que el notebook presente: código compactado por secciones, resultados (tablas/plots) y conclusiones.\n",
    "3. Si tu problema es regresión (en lugar de clasificación), cambia el clasificador por `RandomForestRegressor` y las métricas por MAE/MSE/R2.\n",
    "\n",
    "¡Listo!"
   ]
  },
  {
   "cell_type": "markdown",
   "id": "54d8b3bb",
   "metadata": {},
   "source": [
    "El archivo ha sido guardado como `/mnt/data/ProyectoParteIII_Perez.ipynb`. Descárgalo desde el enlace proporcionado por el entorno."
   ]
  }
 ],
 "metadata": {},
 "nbformat": 4,
 "nbformat_minor": 5
}
